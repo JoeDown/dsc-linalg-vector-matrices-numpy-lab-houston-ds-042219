{
 "cells": [
  {
   "cell_type": "markdown",
   "metadata": {},
   "source": [
    "# Vectors and Matrices in Numpy - Lab\n",
    "\n",
    "## Introduction\n",
    "\n",
    "In this lab, you'll solve some simple matrix creation and manipulation exercises based on what you've learned so far in this section. The key takeaway here is to be able to understand how to use indexing with matrices and vectors while applying some basic operations.\n",
    "\n",
    "## Objectives\n",
    "You will be able to:\n",
    "* Define vectors and matrices in NumPy\n",
    "* Check the shape of vectors and matrices\n",
    "* Access and manipulate individual scalar components of a matrix. \n",
    "\n",
    "## 1. Define two arrays $A$  with shape $ (4 \\times 2)$ and $B$ with shape $(2 \\times 3)$ \n",
    "So    $A =    \n",
    "  \\left[ {\\begin{array}{cc}\n",
    "   1402 & 191 \\\\\n",
    "   1371 &  821\\\\\n",
    "   949 &  1437 \\\\\n",
    "   147 & 1448 \\\\\n",
    "  \\end{array} }\\right]\n",
    "$\n",
    "and\n",
    "$\n",
    "B =    \n",
    "  \\left[ {\\begin{array}{ccc}\n",
    "   1 & 2 & 3 \\\\\n",
    "   4 & 5 & 6\\\\\n",
    "  \\end{array} }\\right]\n",
    "$"
   ]
  },
  {
   "cell_type": "code",
   "execution_count": 1,
   "metadata": {},
   "outputs": [],
   "source": [
    "import numpy as np"
   ]
  },
  {
   "cell_type": "code",
   "execution_count": null,
   "metadata": {},
   "outputs": [],
   "source": []
  },
  {
   "cell_type": "code",
   "execution_count": 2,
   "metadata": {},
   "outputs": [
    {
     "data": {
      "text/plain": [
       "matrix([[1402,  191],\n",
       "        [1371,  821],\n",
       "        [ 949, 1437],\n",
       "        [ 147, 1448]])"
      ]
     },
     "execution_count": 2,
     "metadata": {},
     "output_type": "execute_result"
    }
   ],
   "source": [
    "# Code Here\n",
    "A = np.mat([[1402,  191],\n",
    "[1371,  821],\n",
    "[ 949, 1437],\n",
    "[ 147, 1448]])\n",
    "\n",
    "A"
   ]
  },
  {
   "cell_type": "code",
   "execution_count": 3,
   "metadata": {},
   "outputs": [],
   "source": [
    "B = np.mat([[1,2,3],[4,5,6]])"
   ]
  },
  {
   "cell_type": "code",
   "execution_count": 4,
   "metadata": {},
   "outputs": [
    {
     "data": {
      "text/plain": [
       "(2, 3)"
      ]
     },
     "execution_count": 4,
     "metadata": {},
     "output_type": "execute_result"
    }
   ],
   "source": [
    "B.shape"
   ]
  },
  {
   "cell_type": "code",
   "execution_count": 6,
   "metadata": {},
   "outputs": [
    {
     "data": {
      "text/plain": [
       "(4, 2)"
      ]
     },
     "execution_count": 6,
     "metadata": {},
     "output_type": "execute_result"
    }
   ],
   "source": [
    "A.shape"
   ]
  },
  {
   "cell_type": "markdown",
   "metadata": {},
   "source": [
    "## 3. Print some of the elements from $A$: \n",
    "* first row and first column\n",
    "* first row and second column\n",
    "* third row and second column\n",
    "* fourth row and first column"
   ]
  },
  {
   "cell_type": "code",
   "execution_count": 13,
   "metadata": {},
   "outputs": [
    {
     "data": {
      "text/plain": [
       "matrix([[1402,  191],\n",
       "        [1371,  821],\n",
       "        [ 949, 1437],\n",
       "        [ 147, 1448]])"
      ]
     },
     "execution_count": 13,
     "metadata": {},
     "output_type": "execute_result"
    }
   ],
   "source": [
    "A"
   ]
  },
  {
   "cell_type": "code",
   "execution_count": 14,
   "metadata": {},
   "outputs": [
    {
     "data": {
      "text/plain": [
       "1402"
      ]
     },
     "execution_count": 14,
     "metadata": {},
     "output_type": "execute_result"
    }
   ],
   "source": [
    "A[0,0]"
   ]
  },
  {
   "cell_type": "code",
   "execution_count": 17,
   "metadata": {},
   "outputs": [
    {
     "data": {
      "text/plain": [
       "matrix([[ 191],\n",
       "        [ 821],\n",
       "        [1437],\n",
       "        [1448]])"
      ]
     },
     "execution_count": 17,
     "metadata": {},
     "output_type": "execute_result"
    }
   ],
   "source": [
    "A[:,1]"
   ]
  },
  {
   "cell_type": "code",
   "execution_count": null,
   "metadata": {},
   "outputs": [],
   "source": []
  },
  {
   "cell_type": "markdown",
   "metadata": {},
   "source": [
    "## 4. Write a routine to populate a matrix with random data\n",
    "* Create an $(3 \\times 3)$ Numpy array with all zeros (use `np.zeros()`)\n",
    "* Access each location $(i,j)$ of this matrix and fill in random values between the range 1 and 10. "
   ]
  },
  {
   "cell_type": "code",
   "execution_count": 7,
   "metadata": {},
   "outputs": [
    {
     "data": {
      "text/plain": [
       "matrix([[0., 0., 0.],\n",
       "        [0., 0., 0.],\n",
       "        [0., 0., 0.]])"
      ]
     },
     "execution_count": 7,
     "metadata": {},
     "output_type": "execute_result"
    }
   ],
   "source": [
    "Z = np.mat(np.zeros([3,3]))\n",
    "Z"
   ]
  },
  {
   "cell_type": "code",
   "execution_count": 8,
   "metadata": {},
   "outputs": [
    {
     "data": {
      "text/plain": [
       "matrix([[6, 9, 6],\n",
       "        [2, 4, 4],\n",
       "        [7, 1, 4]])"
      ]
     },
     "execution_count": 8,
     "metadata": {},
     "output_type": "execute_result"
    }
   ],
   "source": [
    "Z = np.mat(np.random.randint(1,10,[3,3]))\n",
    "Z"
   ]
  },
  {
   "cell_type": "code",
   "execution_count": 9,
   "metadata": {},
   "outputs": [],
   "source": [
    "# Code Here (due to random data , your output might be different)"
   ]
  },
  {
   "cell_type": "markdown",
   "metadata": {},
   "source": [
    "## 5. Turn the above routine into a function\n",
    "* Create two $(4 \\times 4)$ zero valued matrices and fill with random data using the function\n",
    "* Add the matrices together in numpy \n",
    "* Show the results"
   ]
  },
  {
   "cell_type": "code",
   "execution_count": 20,
   "metadata": {},
   "outputs": [
    {
     "data": {
      "text/plain": [
       "array([[0., 0., 0., 0.],\n",
       "       [0., 0., 0., 0.],\n",
       "       [0., 0., 0., 0.],\n",
       "       [0., 0., 0., 0.]])"
      ]
     },
     "execution_count": 20,
     "metadata": {},
     "output_type": "execute_result"
    }
   ],
   "source": [
    "np.zeros([4,4])"
   ]
  },
  {
   "cell_type": "code",
   "execution_count": 18,
   "metadata": {},
   "outputs": [
    {
     "name": "stdout",
     "output_type": "stream",
     "text": [
      "[[ 17.  -3. -91. -70.]\n",
      " [-92. -61.  87.  -4.]\n",
      " [-26. -34. -30.  47.]\n",
      " [-39.  53. -88. -59.]]\n",
      " \n",
      "[[-38.  59. -72.  -7.]\n",
      " [-62. -80. -40.  -3.]\n",
      " [ 36.  62.  89. -58.]\n",
      " [ -7.  81.  88. -10.]]\n"
     ]
    }
   ],
   "source": [
    "def create_random_matrix(dimension_1, dimension_2):\n",
    "    matrix = np.mat(np.zeros([dimension_1, dimension_2]))\n",
    "    for i in range(matrix.shape[0]):\n",
    "        for j in range(matrix.shape[1]):\n",
    "            matrix[i,j] = np.random.randint(-100,100)\n",
    "    return matrix\n",
    "\n",
    "m1 = create_random_matrix(4,4)\n",
    "m2 = create_random_matrix(4,4)\n",
    "print(m1)\n",
    "print(' ')\n",
    "print(m2)"
   ]
  },
  {
   "cell_type": "code",
   "execution_count": 21,
   "metadata": {},
   "outputs": [
    {
     "name": "stdout",
     "output_type": "stream",
     "text": [
      "[[ -21.   56. -163.  -77.]\n",
      " [-154. -141.   47.   -7.]\n",
      " [  10.   28.   59.  -11.]\n",
      " [ -46.  134.    0.  -69.]]\n"
     ]
    }
   ],
   "source": [
    "print(m1+m2)"
   ]
  },
  {
   "cell_type": "markdown",
   "metadata": {},
   "source": [
    "## Summary \n",
    "\n",
    "In this lab, we saw how to create and manipulate vectors and matrices in numpy. We shall now move forward to learning more complex operations including dot products and inverses. "
   ]
  }
 ],
 "metadata": {
  "kernelspec": {
   "display_name": "Python 3",
   "language": "python",
   "name": "python3"
  },
  "language_info": {
   "codemirror_mode": {
    "name": "ipython",
    "version": 3
   },
   "file_extension": ".py",
   "mimetype": "text/x-python",
   "name": "python",
   "nbconvert_exporter": "python",
   "pygments_lexer": "ipython3",
   "version": "3.6.6"
  }
 },
 "nbformat": 4,
 "nbformat_minor": 2
}
